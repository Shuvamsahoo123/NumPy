{
 "cells": [
  {
   "cell_type": "markdown",
   "id": "5597094d",
   "metadata": {},
   "source": [
    "## NumPy array and basics\n",
    "lear about numpy with chai and code"
   ]
  },
  {
   "cell_type": "code",
   "execution_count": 2,
   "id": "a6055f9a",
   "metadata": {},
   "outputs": [],
   "source": [
    "import numpy as np "
   ]
  },
  {
   "cell_type": "markdown",
   "id": "4fe961e5",
   "metadata": {},
   "source": [
    "## Creating arry from list"
   ]
  },
  {
   "cell_type": "code",
   "execution_count": 3,
   "id": "0704ff48",
   "metadata": {},
   "outputs": [
    {
     "name": "stdout",
     "output_type": "stream",
     "text": [
      "1D array [1 2 3 4 5]\n",
      "2D array [[1 2 3]\n",
      " [4 5 6]\n",
      " [7 8 9]]\n"
     ]
    }
   ],
   "source": [
    "arr_1d = np.array([1,2,3,4,5])\n",
    "print(\"1D array\", arr_1d)\n",
    "arr_2d = np.array([[1,2,3],[4,5,6],[7,8,9]])\n",
    "print(\"2D array\", arr_2d)\n"
   ]
  },
  {
   "cell_type": "markdown",
   "id": "484c1e91",
   "metadata": {},
   "source": [
    "## List Vs NumPy Array"
   ]
  },
  {
   "cell_type": "code",
   "execution_count": 4,
   "id": "ad6cf977",
   "metadata": {},
   "outputs": [
    {
     "name": "stdout",
     "output_type": "stream",
     "text": [
      "Python list Multiplication [1, 2, 3, 1, 2, 3]\n",
      "Python Array Multiplication [2 4 6]\n",
      "List Operation time : 0.2693154811859131\n",
      "List Operation time : 0.012311697006225586\n"
     ]
    }
   ],
   "source": [
    "py_list = [1,2,3]\n",
    "print(\"Python list Multiplication\",py_list*2)\n",
    "\n",
    "\n",
    "np_array = np.array([1,2,3]) #Element wise Multiplication\n",
    "print(\"Python Array Multiplication\",np_array*2)\n",
    "\n",
    "import time\n",
    "start = time.time()\n",
    "py_list = [i*2 for i in range (1000000)]\n",
    "print(\"List Operation time :\",time.time()-start) \n",
    "\n",
    "start = time.time()\n",
    "np_array = np.arange(1000000)*2\n",
    "print(\"List Operation time :\",time.time()-start)"
   ]
  },
  {
   "cell_type": "markdown",
   "id": "9f8fba90",
   "metadata": {},
   "source": [
    "## Creating array from Scratch"
   ]
  },
  {
   "cell_type": "code",
   "execution_count": 5,
   "id": "531dbb2e",
   "metadata": {},
   "outputs": [
    {
     "name": "stdout",
     "output_type": "stream",
     "text": [
      "zeros array:\n",
      " [[0. 0. 0. 0.]\n",
      " [0. 0. 0. 0.]\n",
      " [0. 0. 0. 0.]]\n",
      "zeros array:\n",
      " [[1. 1. 1. 1.]\n",
      " [1. 1. 1. 1.]\n",
      " [1. 1. 1. 1.]]\n",
      "full array:\n",
      " [[5 5 5 5]\n",
      " [5 5 5 5]\n",
      " [5 5 5 5]]\n",
      "random array:\n",
      " [[0.7583958  0.98063277 0.73426646]\n",
      " [0.80628376 0.60893343 0.49866839]]\n",
      "sequence array:\n",
      " [0 2 4 6 8]\n"
     ]
    }
   ],
   "source": [
    "zeros = np.zeros((3,4))\n",
    "print(\"zeros array:\\n\",zeros)\n",
    "\n",
    "ones = np.ones((3,4))\n",
    "print(\"zeros array:\\n\",ones)\n",
    "\n",
    "full = np.full((3,4), 5)\n",
    "print(\"full array:\\n\",full)\n",
    "\n",
    "random = np.random.random((2,3))\n",
    "print(\"random array:\\n\",random)\n",
    "\n",
    "sequence = np.arange(0,10, 2)\n",
    "print(\"sequence array:\\n\",sequence)"
   ]
  },
  {
   "cell_type": "markdown",
   "id": "4db41aa5",
   "metadata": {},
   "source": [
    "## Vector,Matrix,Tensor"
   ]
  },
  {
   "cell_type": "code",
   "execution_count": 6,
   "id": "dd78e844",
   "metadata": {},
   "outputs": [
    {
     "name": "stdout",
     "output_type": "stream",
     "text": [
      "vector: [1 2 3]\n",
      "Matrix:\n",
      " [[1 2 3]\n",
      " [4 5 6]]\n",
      "Tensor:\n",
      " [[[1 2]\n",
      "  [3 4]]\n",
      "\n",
      " [[5 6]\n",
      "  [7 8]]]\n"
     ]
    }
   ],
   "source": [
    "vector = np.array([1,2,3])\n",
    "print(\"vector:\", vector)\n",
    "\n",
    "Matrix = np.array([[1,2,3],\n",
    "                   [4,5,6]])\n",
    "print(\"Matrix:\\n\",Matrix)\n",
    "\n",
    "Tensor = np.array([[[1,2],[3,4]],[[5,6],[7,8]]])\n",
    "print(\"Tensor:\\n\",Tensor)\n"
   ]
  },
  {
   "cell_type": "markdown",
   "id": "e19ab1e8",
   "metadata": {},
   "source": [
    "## Array Properties\n"
   ]
  },
  {
   "cell_type": "code",
   "execution_count": 7,
   "id": "d37ad10a",
   "metadata": {},
   "outputs": [
    {
     "name": "stdout",
     "output_type": "stream",
     "text": [
      "Shape  (2, 3)\n",
      "Dimension  2\n",
      "Size  6\n",
      "DType  int64\n"
     ]
    }
   ],
   "source": [
    "arr = np.array([[1,2,3],[4,5,6]])\n",
    "\n",
    "print(\"Shape \",arr.shape)\n",
    "print(\"Dimension \",arr.ndim)\n",
    "print(\"Size \",arr.size)\n",
    "print(\"DType \",arr.dtype)\n"
   ]
  },
  {
   "cell_type": "markdown",
   "id": "d1176e28",
   "metadata": {},
   "source": [
    "## Array Reshaping\n"
   ]
  },
  {
   "cell_type": "code",
   "execution_count": 13,
   "id": "427200e7",
   "metadata": {},
   "outputs": [
    {
     "name": "stdout",
     "output_type": "stream",
     "text": [
      "Original array [ 0  1  2  3  4  5  6  7  8  9 10 11]\n",
      "Reshaped array [[ 0  1  2  3]\n",
      " [ 4  5  6  7]\n",
      " [ 8  9 10 11]]\n",
      "\n",
      " Flattned Array [ 0  1  2  3  4  5  6  7  8  9 10 11]\n",
      "\n",
      " ravled array  [ 0  1  2  3  4  5  6  7  8  9 10 11]\n",
      "\n",
      "Transpose Array [[ 0  4  8]\n",
      " [ 1  5  9]\n",
      " [ 2  6 10]\n",
      " [ 3  7 11]]\n"
     ]
    }
   ],
   "source": [
    "arr = np.arange(12)\n",
    "\n",
    "print(\"Original array\", arr)\n",
    "\n",
    "reshaped = arr.reshape((3,4))\n",
    "print(\"Reshaped array\", reshaped)\n",
    "\n",
    "flattened = reshaped.flatten()\n",
    "print(\"\\n Flattned Array\", flattened)\n",
    "\n",
    "#Returns view , Insted of Copy Of original Array\n",
    "ravled = reshaped.ravel()\n",
    "print(\"\\n ravled array \", ravled)\n",
    "\n",
    "Transposr = reshaped.T\n",
    "print(\"\\nTranspose Array\",Transposr)\n",
    "\n",
    "\n",
    "\n"
   ]
  }
 ],
 "metadata": {
  "kernelspec": {
   "display_name": "venv",
   "language": "python",
   "name": "python3"
  },
  "language_info": {
   "codemirror_mode": {
    "name": "ipython",
    "version": 3
   },
   "file_extension": ".py",
   "mimetype": "text/x-python",
   "name": "python",
   "nbconvert_exporter": "python",
   "pygments_lexer": "ipython3",
   "version": "3.13.2"
  }
 },
 "nbformat": 4,
 "nbformat_minor": 5
}
